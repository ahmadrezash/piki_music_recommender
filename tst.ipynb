{
 "cells": [
  {
   "cell_type": "code",
   "execution_count": 1,
   "metadata": {
    "collapsed": true,
    "pycharm": {
     "name": "#%%\n"
    }
   },
   "outputs": [],
   "source": [
    "2 + 2\n",
    "import csv"
   ]
  },
  {
   "cell_type": "code",
   "execution_count": 2,
   "outputs": [
    {
     "data": {
      "text/plain": "[{'timestamp': '2019-08-23 14:40:33',\n  'user_id': '3725384',\n  'song_id': '241173',\n  'liked': '1',\n  'personalized': '0',\n  'Spotify_popularity': '56'},\n {'timestamp': '2019-08-23 14:40:33',\n  'user_id': '3725384',\n  'song_id': '36335',\n  'liked': '1',\n  'personalized': '0',\n  'Spotify_popularity': '70'},\n {'timestamp': '2019-09-30 23:54:55',\n  'user_id': '3727824',\n  'song_id': '377903',\n  'liked': '0',\n  'personalized': '1',\n  'Spotify_popularity': '34'}]"
     },
     "execution_count": 2,
     "metadata": {},
     "output_type": "execute_result"
    }
   ],
   "source": [
    "DATASET_PATH = \"./data/toypiki_dataset.csv\"\n",
    "\n",
    "\n",
    "def load_data(PATH):\n",
    "\twith open(DATASET_PATH, mode='r') as infile:\n",
    "\t\treader = csv.DictReader(infile)\n",
    "\t\tdata = list(reader)\n",
    "\treturn data\n",
    "\n",
    "\n",
    "data = load_data(DATASET_PATH)\n",
    "data[:3]"
   ],
   "metadata": {
    "collapsed": false,
    "pycharm": {
     "name": "#%%\n"
    }
   }
  },
  {
   "cell_type": "code",
   "execution_count": 32,
   "outputs": [
    {
     "data": {
      "text/plain": "20"
     },
     "execution_count": 32,
     "metadata": {},
     "output_type": "execute_result"
    }
   ],
   "source": [
    "def more_than_listening(data, treshold=2):\n",
    "\tfrom collections import Counter\n",
    "\tuser_ids = list(map(lambda x: x[\"user_id\"], data))\n",
    "\tuser_id_freq = list(Counter(user_ids).items())\n",
    "\tfiltered_users = filter(lambda item:item[1]>treshold,user_id_freq)\n",
    "\tfiltered_user_ids = list(map(lambda item:item[0],filtered_users))\n",
    "\n",
    "\tfiltered_data = list(filter(lambda item:item['user_id'] in filtered_user_ids,data))\n",
    "\treturn filtered_data\n",
    "\n",
    "filtered_data = more_than_listening(data=data)\n",
    "len(filtered_data)\n",
    "\n"
   ],
   "metadata": {
    "collapsed": false,
    "pycharm": {
     "name": "#%%\n"
    }
   }
  },
  {
   "cell_type": "code",
   "execution_count": 74,
   "outputs": [
    {
     "name": "stdout",
     "output_type": "stream",
     "text": [
      "u3732154 s5343028 0 s3785307 1 s19602 0 s4106892 0 s4669074 0\n",
      "u3732287 s5343028 0 s3785307 1 s19602 0 s4106892 0 s4851613 0\n",
      "u3731458 s4338106 1 s5343028 0 s3785307 0 s4669074 0 s4106892 0\n",
      "u3736036 s5343028 0 s4338106 0 s5254762 1 s66839 1 s4691808 1\n",
      "\n"
     ]
    }
   ],
   "source": [
    "def reformat_output(filtered_data):\n",
    "\tuser_ids = list(set(list(map(lambda x: x[\"user_id\"],filtered_data))))\n",
    "\ttmp_dict = {}\n",
    "\tusers_history=[]\n",
    "\n",
    "\tfor user_id in user_ids:\n",
    "\t\tfiltered = list(filter(lambda item:item['user_id']==user_id,data))\n",
    "\t\ttmp_dict = {}\n",
    "\t\ttmp_dict['user_id'] = user_id\n",
    "\t\ttmp_dict['history'] = filtered\n",
    "\t\tusers_history.append(tmp_dict)\n",
    "\n",
    "\tresult:str = \"\"\n",
    "\tfor item in users_history:\n",
    "\t\tuser_history_list = list(map(lambda item:f\"s{item['song_id']} {int(item['personalized']) if item['personalized'] else -1}\",item['history']))\n",
    "\t\tuser_history_line = \" \".join(user_history_list)\n",
    "\t\tnew_line = f\"u{item['user_id']} {user_history_line}\" +\"\\n\"\n",
    "\t\tresult = result + new_line\n",
    "\t\t# print(result)\n",
    "\treturn result\n",
    "\n",
    "result = reformat_output(filtered_data)\n",
    "print(result)"
   ],
   "metadata": {
    "collapsed": false,
    "pycharm": {
     "name": "#%%\n"
    }
   }
  },
  {
   "cell_type": "code",
   "execution_count": 80,
   "outputs": [
    {
     "name": "stdout",
     "output_type": "stream",
     "text": [
      "1\n"
     ]
    }
   ],
   "source": [
    "a = \"0\"\n",
    "print(f\"{int(a) if 0 else 1}\")"
   ],
   "metadata": {
    "collapsed": false,
    "pycharm": {
     "name": "#%%\n"
    }
   }
  },
  {
   "cell_type": "code",
   "execution_count": 78,
   "outputs": [
    {
     "data": {
      "text/plain": "0"
     },
     "execution_count": 78,
     "metadata": {},
     "output_type": "execute_result"
    }
   ],
   "source": [
    "\n",
    "int(a)"
   ],
   "metadata": {
    "collapsed": false,
    "pycharm": {
     "name": "#%%\n"
    }
   }
  },
  {
   "cell_type": "code",
   "execution_count": null,
   "outputs": [],
   "source": [],
   "metadata": {
    "collapsed": false,
    "pycharm": {
     "name": "#%%\n"
    }
   }
  }
 ],
 "metadata": {
  "kernelspec": {
   "display_name": "Python 3",
   "language": "python",
   "name": "python3"
  },
  "language_info": {
   "codemirror_mode": {
    "name": "ipython",
    "version": 2
   },
   "file_extension": ".py",
   "mimetype": "text/x-python",
   "name": "python",
   "nbconvert_exporter": "python",
   "pygments_lexer": "ipython2",
   "version": "2.7.6"
  }
 },
 "nbformat": 4,
 "nbformat_minor": 0
}